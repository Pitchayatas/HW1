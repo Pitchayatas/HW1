{
  "nbformat": 4,
  "nbformat_minor": 0,
  "metadata": {
    "colab": {
      "provenance": []
    },
    "kernelspec": {
      "name": "python3",
      "display_name": "Python 3"
    },
    "language_info": {
      "name": "python"
    }
  },
  "cells": [
    {
      "cell_type": "code",
      "execution_count": null,
      "metadata": {
        "colab": {
          "base_uri": "https://localhost:8080/"
        },
        "id": "pO5LHZQMqWM4",
        "outputId": "fa1032fd-01da-4737-9842-df549236d921"
      },
      "outputs": [
        {
          "output_type": "stream",
          "name": "stdout",
          "text": [
            "count_runs([0, 1, 0, 1, 1, 0, 0, 0, 0, 1])\n",
            "Counter({1: 2, 2: 1})\n"
          ]
        }
      ],
      "source": [
        "#ข้อ 1\n",
        "from collections import Counter\n",
        "\n",
        "def count_runs(sequence):\n",
        "    runs = []\n",
        "    count = 0\n",
        "\n",
        "    for value in sequence:\n",
        "        if value == 1:\n",
        "            count += 1\n",
        "        else:\n",
        "            if count > 0:\n",
        "                runs.append(count)\n",
        "            count = 0\n",
        "    if count > 0:  # Include the last run if the sequence ends with 1\n",
        "        runs.append(count)\n",
        "\n",
        "    return Counter(runs)\n",
        "\n",
        "# Example usage:\n",
        "sequence = [0, 1, 0, 1, 1, 0, 0, 0, 0, 1]\n",
        "result = count_runs(sequence)\n",
        "\n",
        "print(f\"count_runs({sequence})\")\n",
        "print(result)"
      ]
    },
    {
      "cell_type": "code",
      "source": [
        "#ข้อ 2\n",
        "\n",
        "import random\n",
        "def simulate_runs(n, p, k):\n",
        "\n",
        "  current_run = 0\n",
        "  for _ in range(n):\n",
        "    if random.random() < p:\n",
        "      current_run += 1\n",
        "      if current_run >= k:\n",
        "        return True\n",
        "    else:\n",
        "      current_run = 0\n",
        "  return False\n",
        "\n",
        "def run_prob(expts, n, k, p):\n",
        "\n",
        "  count = 0\n",
        "  for _ in range(expts):\n",
        "    if simulate_runs(n, p, k):\n",
        "      count += 1\n",
        "  return count / expts\n",
        "\n",
        "# กำหนดพารามิเตอร์\n",
        "expts = 100000\n",
        "n = 100\n",
        "\n",
        "# คำนวณความน่าจะเป็นของ k = 5 และ p = 0.5\n",
        "prob1 = run_prob(expts, n, 5, 0.5)\n",
        "print(f\"run_prob(expts={expts}, n={n}, k=5, p=0.5): {prob1:.5f}\")\n",
        "\n",
        "# คำนวณความน่าจะเป็นของ k = 7 และ p = 0.7\n",
        "prob2 = run_prob(expts, n, 7, 0.7)\n",
        "print(f\"run_prob(expts={expts}, n={n}, k=7, p=0.7): {prob2:.5f}\")"
      ],
      "metadata": {
        "colab": {
          "base_uri": "https://localhost:8080/"
        },
        "id": "xz1Hx0bOqivg",
        "outputId": "14188cdc-8174-41fc-e966-c7c9b884f8ce"
      },
      "execution_count": null,
      "outputs": [
        {
          "output_type": "stream",
          "name": "stdout",
          "text": [
            "run_prob(expts=100000, n=100, k=5, p=0.5): 0.81203\n",
            "run_prob(expts=100000, n=100, k=7, p=0.7): 0.95016\n"
          ]
        }
      ]
    }
  ]
}